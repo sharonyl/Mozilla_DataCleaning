{
 "cells": [
  {
   "cell_type": "markdown",
   "metadata": {},
   "source": [
    "# Cleaning and Archiving FHRV2 Back Up Samples\n"
   ]
  },
  {
   "cell_type": "markdown",
   "metadata": {},
   "source": [
    "The historic data consists of 1% random samples from the deorphaned population. The 1% random sample is chosen independently every week. Fields should be minimally identifiable and stripped of any unnecessary information. \n",
    "\n",
    "A list of the remaining fields can be found [here](https://docs.google.com/a/mozilla.com/document/d/1Z1avxeoEHZEMZU6tdl8q5QoR1yDsOtTRhGpbqxQMvNE/edit?usp=sharing) . In addition, only the top 100 addons are included in the archive. \n",
    "\n",
    "A dictionary for the all fields can be found [here](http://gecko.readthedocs.io/en/latest/toolkit/components/telemetry/healthreport/index.html)."
   ]
  },
  {
   "cell_type": "markdown",
   "metadata": {},
   "source": [
    "### Table of Contents\n",
    "    \n",
    "#### Clean and Archive \n",
    "   _Run through these functions to clean and archive any new samples._\n",
    "* [__Extract Fields__](#Extract-Fields) - map all wanted fields to a new output.\n",
    "* [__Keep Top 100 Addons__](#Keep-Top-100-Addons) - remove addons that are not within the Top 100 Addons list generated [here](#REFERENCE:-Create-List-of-Top-100-AddOns). \n",
    "* [__Fill In Version Info__](#Fill-In-Version-Information) - fill in version info between updates.\n",
    "* [__Convert to Json__](#Convert-to-Json) - output is converted to Json in order to save as a sequence file.\n",
    "* [__Run through S3__](#Run-through-Samples-in-S3) - apply functions to all new samples in S3.\n",
    "    \n",
    "#### Reference Material\n",
    "* [__Create Top Addons List__](#REFERENCE:-Create-List-of-Top-100-AddOns) - generate a list of addon counts to export and convert to dictionary of top 100 addon signatures. \n",
    "\n",
    "\n",
    "\n"
   ]
  },
  {
   "cell_type": "markdown",
   "metadata": {},
   "source": [
    " "
   ]
  },
  {
   "cell_type": "code",
   "execution_count": 1,
   "metadata": {
    "collapsed": false,
    "scrolled": true
   },
   "outputs": [
    {
     "name": "stdout",
     "output_type": "stream",
     "text": [
      "Unable to parse whitelist (/home/hadoop/anaconda2/lib/python2.7/site-packages/moztelemetry/histogram-whitelists.json). Assuming all histograms are acceptable.\n",
      "Populating the interactive namespace from numpy and matplotlib\n"
     ]
    }
   ],
   "source": [
    "import matplotlib.pyplot as plt\n",
    "import pandas as pd\n",
    "import json\n",
    "\n",
    "from moztelemetry import get_pings, get_pings_properties, get_one_ping_per_client, get_clients_history, get_records\n",
    "\n",
    "get_ipython().magic(u'pylab inline')"
   ]
  },
  {
   "cell_type": "markdown",
   "metadata": {},
   "source": [
    "### Extract Fields"
   ]
  },
  {
   "cell_type": "markdown",
   "metadata": {
    "collapsed": true
   },
   "source": [
    "Extract all relevant fields that are desired from the one percent sample. Irrelevant fields include data that are not necessary for historical analysis and data that may have highly identifiable attributes."
   ]
  },
  {
   "cell_type": "code",
   "execution_count": 8,
   "metadata": {
    "collapsed": true
   },
   "outputs": [],
   "source": [
    "# All relevant fields in the one percent sample.\n",
    "general = ['thisPingDate','lastPingDate','geoCountry']\n",
    "gecko = ['vendor','name','version','platofrmBuildID','os','updateChannel'] \n",
    "# Extract all addons info first, then delete unwanted addons \n",
    "# using 'KeepTopAddons'. \n",
    "datalast = {'org.mozilla.addons.addons':['all'],\n",
    "            'org.mozilla.addons.active':['all'],\n",
    "            'org.mozilla.addons.gm-plugins':['gm-gmpopenh264','gmp-eme-adobe'],\n",
    "            'org.mozilla.appInfo.appinfo':['_v','hotfixVersion', 'locale'],\n",
    "            'org.mozilla.profile.age':['profileCreation'],\n",
    "            'org.mozilla.sysinfo.sysinfo':['cpuCount','isWow64','memoryMB',\n",
    "                                           'architecture','name','version']\n",
    "                 }\n",
    "datadays = {'org.mozilla.addons.counts': ['all'], #all fields included\n",
    "            'org.mozilla.appInfo.versions':['_v','appVersion','appBuildID'],\n",
    "            'org.mozilla.searches.counts': ['all'], \n",
    "            'org.mozilla.appInfo.appinfo':['isDefaultBrowser'],\n",
    "            'org.mozilla.appSessions.previous':['_v','abortedActiveTicks',\n",
    "                                                'abortedTotalTime','cleanActiveTicks',\n",
    "                                                'cleanTotalTime']\n",
    "                } "
   ]
  },
  {
   "cell_type": "code",
   "execution_count": 9,
   "metadata": {
    "collapsed": false
   },
   "outputs": [],
   "source": [
    "def extractFields(data):\n",
    "    obs = json.loads(data[1])\n",
    "    output = {}\n",
    "    # general\n",
    "    for field in general:\n",
    "        # Leave out any fields that do not exist in input data.\n",
    "        if field in obs:\n",
    "            output[field] = obs[field]\n",
    "    # geckoAppInfo\n",
    "    if 'geckoAppInfo' in obs:\n",
    "        output['geckoAppInfo'] = {}\n",
    "        for field in gecko:\n",
    "            if field in obs['geckoAppInfo']:\n",
    "                output['geckoAppInfo'][field] = obs['geckoAppInfo'][field]\n",
    "    # data.last\n",
    "    if 'data' in obs and 'last'in obs.get('data',{}): \n",
    "        output['data.last'] = {}\n",
    "        for field, subfield in datalast.iteritems():\n",
    "            if field in obs['data']['last']:\n",
    "                if subfield[0] == 'all': \n",
    "                     output['data.last'][field] = obs['data']['last'][field]\n",
    "                else:\n",
    "                    output['data.last'][field] = {}\n",
    "                    for sf in subfield: \n",
    "                        if sf in obs['data']['last'][field]: \n",
    "                            output['data.last'][field][sf] = obs['data']['last'][field][sf]\n",
    "    # data.days\n",
    "    if 'data' in obs and 'days' in obs.get('data',{}):\n",
    "        orginaldays = obs['data']['days']\n",
    "        output['data.days'] = {}\n",
    "        for day,content in orginaldays.iteritems():\n",
    "            # For each day in data days, create an empty dict as \n",
    "            # value; fill in with date-specific content. \n",
    "            output['data.days'][day] = {} \n",
    "            for field,subfield in datadays.iteritems():\n",
    "                if field in content:\n",
    "                    if subfield[0] == 'all': \n",
    "                        output['data.days'][day][field] = content[field]\n",
    "                    else:\n",
    "                        output['data.days'][day][field] = {}\n",
    "                        for sf in subfield:\n",
    "                            if sf in content[field]:\n",
    "                                output['data.days'][day][field][sf] = content[field][sf]\n",
    "    return output"
   ]
  },
  {
   "cell_type": "markdown",
   "metadata": {},
   "source": [
    "### Keep Top 100 AddOns"
   ]
  },
  {
   "cell_type": "markdown",
   "metadata": {},
   "source": [
    "Import the top 100 addons dictionary and use to keep only top addons information for the 1pct data. "
   ]
  },
  {
   "cell_type": "code",
   "execution_count": 10,
   "metadata": {
    "collapsed": true
   },
   "outputs": [],
   "source": [
    "from pyspark.sql import SQLContext\n",
    "sqlContext = SQLContext(sc) "
   ]
  },
  {
   "cell_type": "code",
   "execution_count": 11,
   "metadata": {
    "collapsed": false
   },
   "outputs": [],
   "source": [
    "addondict = sqlContext.read.json(\"s3://mozilla-metrics/share/sigdict.json\") \n",
    "# Addondict includes addon signature, addon name, count.\n",
    "addondict = addondict.collect()\n",
    "# Create an array of just signatures.\n",
    "topsigs = [x.signature for x in addondict]"
   ]
  },
  {
   "cell_type": "code",
   "execution_count": 12,
   "metadata": {
    "collapsed": false
   },
   "outputs": [],
   "source": [
    "def keepTopAddons(data):    \n",
    "    obs = data\n",
    "    # In _v1 : addon info is found within 'org.mozilla.addons.active'.\n",
    "    # In _v2 : addon info is found within 'org.mozilla.addons.addons'.\n",
    "    obsitems_v1 = obs.get(\"data.last\",{}).get(\"org.mozilla.addons.active\", None) \n",
    "    obsitems_v2 = obs.get(\"data.last\",{}).get(\"org.mozilla.addons.addons\", None) \n",
    "    if obsitems_v1 is not None:\n",
    "        obsitems = obsitems_v1\n",
    "    elif obsitems_v2 is not None:\n",
    "        obsitems = obsitems_v2\n",
    "    else:\n",
    "        obsitems = {'NoAddOns': {'Name':'NoAddons'}}\n",
    "    for sig in obsitems.keys():\n",
    "        #we keep _v \n",
    "        if sig != '_v':\n",
    "            if sig not in topsigs:\n",
    "                del data.get('data.last',{}).get('org.mozilla.addons.active',{sig: None})[sig] \n",
    "                del data.get('data.last',{}).get('org.mozilla.addons.addons',{sig : None})[sig]\n",
    "    return data"
   ]
  },
  {
   "cell_type": "markdown",
   "metadata": {},
   "source": [
    "### Fill In Version Information"
   ]
  },
  {
   "cell_type": "markdown",
   "metadata": {},
   "source": [
    "Raw data only records version information when an update occurs. Instead, we want version information for all dates."
   ]
  },
  {
   "cell_type": "code",
   "execution_count": 13,
   "metadata": {
    "collapsed": true
   },
   "outputs": [],
   "source": [
    "#insert fill in Version code here. "
   ]
  },
  {
   "cell_type": "markdown",
   "metadata": {},
   "source": [
    "### Convert to Json "
   ]
  },
  {
   "cell_type": "markdown",
   "metadata": {},
   "source": [
    "Convert to Json with uuid to save as sequence file."
   ]
  },
  {
   "cell_type": "code",
   "execution_count": 14,
   "metadata": {
    "collapsed": true
   },
   "outputs": [],
   "source": [
    "import uuid"
   ]
  },
  {
   "cell_type": "code",
   "execution_count": 15,
   "metadata": {
    "collapsed": false
   },
   "outputs": [],
   "source": [
    "def toJson(data):\n",
    "    data_json = json.dumps(data)\n",
    "    return (str(uuid.uuid4()), data_json)"
   ]
  },
  {
   "cell_type": "markdown",
   "metadata": {},
   "source": [
    "### Run through Samples in S3"
   ]
  },
  {
   "cell_type": "markdown",
   "metadata": {
    "collapsed": true
   },
   "source": [
    "Apply all above functions to all samples that have not been archived in S3. Import data from 'fhrv2backup' and export output into 'fhrv2thin1pctbackup'."
   ]
  },
  {
   "cell_type": "code",
   "execution_count": 16,
   "metadata": {
    "collapsed": true
   },
   "outputs": [],
   "source": [
    "import boto\n",
    "import time"
   ]
  },
  {
   "cell_type": "code",
   "execution_count": 17,
   "metadata": {
    "collapsed": true
   },
   "outputs": [],
   "source": [
    "conn = boto.connect_s3(host=\"s3-us-west-2.amazonaws.com\")"
   ]
  },
  {
   "cell_type": "code",
   "execution_count": 18,
   "metadata": {
    "collapsed": true
   },
   "outputs": [],
   "source": [
    "bucket = conn.get_bucket(\"mozilla-metrics\") \n",
    "key = bucket.new_key(\"/share/fhrv2thinbackup\")"
   ]
  },
  {
   "cell_type": "code",
   "execution_count": 19,
   "metadata": {
    "collapsed": true
   },
   "outputs": [],
   "source": [
    "fhr2 =list(bucket.list(\"share/fhrv2backup/\",\"/\"))"
   ]
  },
  {
   "cell_type": "code",
   "execution_count": 20,
   "metadata": {
    "collapsed": true
   },
   "outputs": [],
   "source": [
    "fhr2names = [x.name for x in fhr2] \n",
    "# Sample output: u'share/fhrv2backup/2014-07-28/'"
   ]
  },
  {
   "cell_type": "code",
   "execution_count": 21,
   "metadata": {
    "collapsed": false
   },
   "outputs": [],
   "source": [
    "# Create input/ouput source string from 'names'.\n",
    "for input in fhr2names:\n",
    "    # Source string format 's3://mozilla-metrics/share/fhrv2backup/\n",
    "    # 2015-08-24/1pct/'\n",
    "    # Do not run on existing thinbackups.\n",
    "    try:\n",
    "        sc.sequenceFile('s3://mozilla-metrics/share/tempfile/' + input[18:])\n",
    "    except Exception as e : \n",
    "        inputsourcestring = 's3://mozilla-metrics/'+ input + '1pct/'\n",
    "        opct_input = sc.sequenceFile(inputsourcestring)\n",
    "        # Still need to add .map(fillInVersions) before .map(toJson) \n",
    "        output_thin = opct_input.map(mymap).map(keepTopAddons).map(toJson) \n",
    "        # Output sample file name example 's3://mozilla-metrics/share\n",
    "        # /fhrv2thin1pctbackup/2015-08-24/'\n",
    "        output_thin.saveAsSequenceFile('s3://mozilla-metrics/share/tempfile/' \n",
    "                                       + input[18:]) #[18:] is the date\n",
    "    else: \n",
    "        next"
   ]
  },
  {
   "cell_type": "markdown",
   "metadata": {},
   "source": [
    "### REFERENCE: Create List of Top 100 AddOns"
   ]
  },
  {
   "cell_type": "code",
   "execution_count": 2,
   "metadata": {
    "collapsed": false
   },
   "outputs": [],
   "source": [
    "# One percent sample from s3.\n",
    "sample = sc.sequenceFile(\"s3://mozilla-metrics/share/fhrv2backup/2015-08-24/1pct/\")"
   ]
  },
  {
   "cell_type": "code",
   "execution_count": 3,
   "metadata": {
    "collapsed": false
   },
   "outputs": [],
   "source": [
    "# Groupkey is uesd to extract addons from their \n",
    "# dictionaries in v1('org.mozilla.addons.active')\n",
    "# and v2('org.mozilla.addons.addons').\n",
    "# After extraction, a counter is added to each tuple \n",
    "# containing (('addon signature', 'addon name'), 'count').\n",
    "\n",
    "def groupkey(data):\n",
    "    obs = json.loads(data[1])\n",
    "    # Version 1 addons location\n",
    "    obsitems_v1 = obs.get(\"data\",{}).get(\"last\",{}).get(\"org.mozilla.addons.active\", None)\n",
    "    # Version 2 addons location\n",
    "    obsitems_v2 = obs.get(\"data\",{}).get(\"last\",{}).get(\"org.mozilla.addons.addons\", None) \n",
    "    if obsitems_v1 is not None:\n",
    "        obsitems = obsitems_v1\n",
    "    elif obsitems_v2 is not None:\n",
    "        obsitems = obsitems_v2\n",
    "    else:\n",
    "        obsitems = {'NoAddOns': {'Name':'NoAddons'}} \n",
    "    # Addons under a single name can have multiple signatures. \n",
    "    # Before aggregating addon name counts,\n",
    "    # addon signature counts need to be taken.\n",
    "    for key,value in obsitems.iteritems(): \n",
    "        # When no addons are under a profile, a dictionary of len==1 \n",
    "        # is found with only version data.\n",
    "        if key == \"_v\" and len(obsitems)== 1: \n",
    "            pairkey = ('NoAddOns','NoAddOns') \n",
    "            yield (pairkey, 1)\n",
    "        elif key == \"_v\": \n",
    "            next\n",
    "        # Remaining addons will have signature and name (if existing) \n",
    "        # extracted and formatted into pairkeys with associated count.\n",
    "        else: \n",
    "            pairkey = (key,value.get(\"name\",\"missing\"))\n",
    "            yield (pairkey, 1)"
   ]
  },
  {
   "cell_type": "code",
   "execution_count": 4,
   "metadata": {
    "collapsed": false
   },
   "outputs": [],
   "source": [
    "# Groupkey is applied to the sample and reduce by key \n",
    "# is used to aggregate counts across addon siganture-name pairkeys.\n",
    "count = sample.flatMap(groupkey).reduceByKey(lambda a,b: a + b)\n",
    "result = count.collect()"
   ]
  },
  {
   "cell_type": "code",
   "execution_count": 5,
   "metadata": {
    "collapsed": false
   },
   "outputs": [],
   "source": [
    "# After results are collected, they are converted from unicode to strings. \n",
    "data = []\n",
    "# Key refers to addon signature-name pairkey.\n",
    "# Value refers to count.\n",
    "for key, value in result: \n",
    "    if key[0] is not None and key[1] is not None: \n",
    "        key1 = key[0].encode('ascii','ignore')\n",
    "        key2 = key[1].encode('ascii','ignore')\n",
    "    elif key[0] is None:\n",
    "        key1 = 'missing'\n",
    "        key2 = key[1].encode('ascii','ignore')\n",
    "    elif key[1] is None:\n",
    "        key1 = key[0].encode('ascii','ignore')\n",
    "        key2 = 'missing'\n",
    "    else: \n",
    "        key1 = 'missing'\n",
    "        key2 = 'missing'\n",
    "    data.append((key1,key2,value))"
   ]
  },
  {
   "cell_type": "code",
   "execution_count": 6,
   "metadata": {
    "collapsed": true
   },
   "outputs": [],
   "source": [
    "import csv"
   ]
  },
  {
   "cell_type": "code",
   "execution_count": 7,
   "metadata": {
    "collapsed": false
   },
   "outputs": [],
   "source": [
    "with open('AddonsCounts.csv', 'w') as myfile:\n",
    "    wr = csv.writer(myfile)\n",
    "    for row in data:\n",
    "        wr.writerow(row)"
   ]
  }
